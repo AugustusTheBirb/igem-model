{
 "cells": [
  {
   "cell_type": "code",
   "execution_count": null,
   "id": "5f94c65b",
   "metadata": {},
   "outputs": [
    {
     "name": "stdout",
     "output_type": "stream",
     "text": [
      "CRS before: EPSG:3346\n",
      "Name: Pakruojo r. sav., Centroid: (56.052387, 23.874610)\n",
      "Name: Kazlų Rūdos sav., Centroid: (54.784653, 23.464193)\n",
      "Name: Jonavos r. sav., Centroid: (55.107508, 24.308096)\n",
      "Name: Vilniaus m. sav., Centroid: (54.692547, 25.272293)\n",
      "Name: Šiaulių r. sav., Centroid: (55.985306, 23.116074)\n",
      "Name: Vilkaviškio r. sav., Centroid: (54.595558, 22.969803)\n",
      "Name: Kauno m. sav., Centroid: (54.899313, 23.932359)\n",
      "Name: Jurbarko r. sav., Centroid: (55.180249, 22.887819)\n",
      "Name: Anykščių r. sav., Centroid: (55.552237, 25.074155)\n",
      "Name: Marijampolės sav., Centroid: (54.546193, 23.453401)\n",
      "Name: Šalčininkų r. sav., Centroid: (54.316315, 25.273163)\n",
      "Name: Pagėgių sav., Centroid: (55.147401, 21.979246)\n",
      "Name: Utenos r. sav., Centroid: (55.511487, 25.692663)\n",
      "Name: Šiaulių m. sav., Centroid: (55.905411, 23.323953)\n",
      "Name: Kėdainių r. sav., Centroid: (55.337311, 23.936999)\n",
      "Name: Prienų r. sav., Centroid: (54.637058, 23.979339)\n",
      "Name: Plungės r. sav., Centroid: (55.943473, 21.847566)\n",
      "Name: Tauragės r. sav., Centroid: (55.293591, 22.329919)\n",
      "Name: Klaipėdos r. sav., Centroid: (55.662406, 21.428851)\n",
      "Name: Birštono sav., Centroid: (54.565039, 24.021114)\n",
      "Name: Kauno r. sav., Centroid: (54.968737, 23.804924)\n",
      "Name: Zarasų r. sav., Centroid: (55.703575, 26.105980)\n",
      "Name: Druskininkų sav., Centroid: (54.038482, 23.986378)\n",
      "Name: Rietavo sav., Centroid: (55.722836, 21.996704)\n",
      "Name: Pasvalio r. sav., Centroid: (56.059787, 24.338706)\n",
      "Name: Vilniaus r. sav., Centroid: (54.761463, 25.398555)\n",
      "Name: Kretingos r. sav., Centroid: (55.977667, 21.378292)\n",
      "Name: Alytaus r. sav., Centroid: (54.390525, 24.032988)\n",
      "Name: Ukmergės r. sav., Centroid: (55.266887, 24.760203)\n",
      "Name: Rokiškio r. sav., Centroid: (55.954707, 25.537781)\n",
      "Name: Neringos sav., Centroid: (55.442721, 21.076788)\n",
      "Name: Mažeikių r. sav., Centroid: (56.267041, 22.283523)\n",
      "Name: Lazdijų r. sav., Centroid: (54.172682, 23.640428)\n",
      "Name: Elektrėnų sav., Centroid: (54.747082, 24.723645)\n",
      "Name: Ignalinos r. sav., Centroid: (55.389429, 26.313229)\n",
      "Name: Visagino sav., Centroid: (55.586300, 26.490648)\n",
      "Name: Panevėžio m. sav., Centroid: (55.730418, 24.346880)\n",
      "Name: Klaipėdos m. sav., Centroid: (55.704330, 21.150163)\n",
      "Name: Kupiškio r. sav., Centroid: (55.843887, 25.028091)\n",
      "Name: Raseinių r. sav., Centroid: (55.384437, 23.213273)\n",
      "Name: Akmenės r. sav., Centroid: (56.241508, 22.822467)\n",
      "Name: Biržų r. sav., Centroid: (56.174415, 24.817591)\n",
      "Name: Kaišiadorių r. sav., Centroid: (54.835885, 24.411161)\n",
      "Name: Skuodo r. sav., Centroid: (56.215322, 21.683980)\n",
      "Name: Šilalės r. sav., Centroid: (55.527710, 22.220845)\n",
      "Name: Palangos m. sav., Centroid: (55.968966, 21.090670)\n",
      "Name: Joniškio r. sav., Centroid: (56.247194, 23.502845)\n",
      "Name: Kalvarijos sav., Centroid: (54.379032, 23.196312)\n",
      "Name: Radviliškio r. sav., Centroid: (55.695069, 23.635597)\n",
      "Name: Trakų r. sav., Centroid: (54.550623, 24.782086)\n",
      "Name: Švenčionių r. sav., Centroid: (55.113962, 26.017662)\n",
      "Name: Telšių r. sav., Centroid: (55.931474, 22.374976)\n",
      "Name: Kelmės r. sav., Centroid: (55.671901, 22.867070)\n",
      "Name: Alytaus m. sav., Centroid: (54.401102, 24.036256)\n",
      "Name: Varėnos r. sav., Centroid: (54.177094, 24.499326)\n",
      "Name: Molėtų r. sav., Centroid: (55.222058, 25.435595)\n",
      "Name: Širvintų r. sav., Centroid: (55.011303, 24.920540)\n",
      "Name: Panevėžio r. sav., Centroid: (55.665956, 24.354437)\n",
      "Name: Šakių r. sav., Centroid: (54.947267, 23.081166)\n",
      "Name: Šilutės r. sav., Centroid: (55.370852, 21.537473)\n"
     ]
    }
   ],
   "source": [
    "import geopandas as gpd\n",
    "import io\n",
    "# 1. Load GeoJSON file\n",
    "gdf = gpd.read_file(r\"C:\\Users\\user\\Desktop\\repos\\igem-model\\data\\raw\\adr_gra_savivaldybes.json\")\n",
    "\n",
    "print(\"CRS before:\", gdf.crs)  # should be EPSG:3346\n",
    "\n",
    "gdf[\"centroid_proj\"] = gdf.geometry.centroid\n",
    "\n",
    "gdf_latlon = gdf.to_crs(epsg=4326)\n",
    "gdf_latlon[\"centroid\"] = gdf[\"centroid_proj\"].to_crs(epsg=4326)\n",
    "\n",
    "\n",
    "with io.open(r\"C:\\Users\\user\\Desktop\\repos\\igem-model\\data\\centers.csv\", \"w\", encoding=\"utf-8\") as f:\n",
    "    for _, row in gdf_latlon.iterrows():\n",
    "        f.write(row['SAV_PAV'] + \",\" + str(row['centroid'].y) + \",\" + str(row['centroid'].x) + \"\\n\")\n",
    "        print(f\"Name: {row['SAV_PAV']}, Centroid: ({row['centroid'].y:.6f}, {row['centroid'].x:.6f})\")\n"
   ]
  }
 ],
 "metadata": {
  "kernelspec": {
   "display_name": "Python 3",
   "language": "python",
   "name": "python3"
  },
  "language_info": {
   "codemirror_mode": {
    "name": "ipython",
    "version": 3
   },
   "file_extension": ".py",
   "mimetype": "text/x-python",
   "name": "python",
   "nbconvert_exporter": "python",
   "pygments_lexer": "ipython3",
   "version": "3.12.10"
  }
 },
 "nbformat": 4,
 "nbformat_minor": 5
}
