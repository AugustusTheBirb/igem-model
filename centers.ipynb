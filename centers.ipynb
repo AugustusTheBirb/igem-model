{
 "cells": [
  {
   "cell_type": "code",
   "execution_count": null,
   "id": "5f94c65b",
   "metadata": {},
   "outputs": [
    {
     "name": "stdout",
     "output_type": "stream",
     "text": [
      "CRS before: EPSG:3346\n",
      "Name: Alytaus apskr., Centroid: (54.221847, 24.125284)\n",
      "Name: Vilniaus apskr., Centroid: (54.821211, 25.233581)\n",
      "Name: Kauno apskr., Centroid: (55.075195, 23.886842)\n",
      "Name: Klaipėdos apskr., Centroid: (55.724333, 21.478885)\n",
      "Name: Marijampolės apskr., Centroid: (54.703999, 23.171699)\n",
      "Name: Panevėžio apskr., Centroid: (55.917551, 24.801590)\n",
      "Name: Šiaulių apskr., Centroid: (55.937979, 23.307560)\n",
      "Name: Tauragės apskr., Centroid: (55.300665, 22.449120)\n",
      "Name: Telšių apskr., Centroid: (56.000722, 22.163961)\n",
      "Name: Utenos apskr., Centroid: (55.479085, 25.699177)\n"
     ]
    }
   ],
   "source": [
    "import geopandas as gpd\n",
    "import io\n",
    "\n",
    "gdf = gpd.read_file(r\"C:\\Users\\user\\Desktop\\repos\\igem-model\\data\\raw\\adr_gra_apskritys.json\")\n",
    "\n",
    "print(\"CRS before:\", gdf.crs)  \n",
    "\n",
    "gdf[\"centroid_proj\"] = gdf.geometry.centroid\n",
    "\n",
    "gdf_latlon = gdf.to_crs(epsg=4326)\n",
    "gdf_latlon[\"centroid\"] = gdf[\"centroid_proj\"].to_crs(epsg=4326)\n",
    "\n",
    "\n",
    "with io.open(r\"C:\\Users\\user\\Desktop\\repos\\igem-model\\data\\centersAps.csv\", \"w\", encoding=\"utf-8\") as f:\n",
    "    for _, row in gdf_latlon.iterrows():\n",
    "        f.write(row['APS_PAV'] + \",\" + str(row['centroid'].y) + \",\" + str(row['centroid'].x) + \"\\n\")\n",
    "        print(f\"Name: {row['APS_PAV']}, Centroid: ({row['centroid'].y:.6f}, {row['centroid'].x:.6f})\")\n"
   ]
  }
 ],
 "metadata": {
  "kernelspec": {
   "display_name": "Python 3",
   "language": "python",
   "name": "python3"
  },
  "language_info": {
   "codemirror_mode": {
    "name": "ipython",
    "version": 3
   },
   "file_extension": ".py",
   "mimetype": "text/x-python",
   "name": "python",
   "nbconvert_exporter": "python",
   "pygments_lexer": "ipython3",
   "version": "3.12.10"
  }
 },
 "nbformat": 4,
 "nbformat_minor": 5
}
